{
 "cells": [
  {
   "cell_type": "markdown",
   "metadata": {},
   "source": [
    "# Switch\n",
    "\n",
    "## Switch statement\n",
    "\n",
    "[Resouce on Microsoft learn](https://learn.microsoft.com/en-us/dotnet/csharp/language-reference/language-specification/statements#1383-the-switch-statement)\n",
    "\n",
    "<p style=\"color:GreenYellow\">QUESTION : if-else OR switch: which one to use? </p>\n",
    "<p><span style=\"color:Yellow\">ANSWER:</span> Remember that premature optimization is the root of all evil (as Donald Knuth wisely said). Unless you’re iterating one billion times, the performance difference between switch and if-else is usually negligible1.  <span style=\"color:yellow\">Choose the one thatmakes your code more maintainable and easier to understand!</span></p>"
   ]
  },
  {
   "cell_type": "code",
   "execution_count": 65,
   "metadata": {
    "dotnet_interactive": {
     "language": "csharp"
    },
    "polyglot_notebook": {
     "kernelName": "csharp"
    }
   },
   "outputs": [
    {
     "name": "stdout",
     "output_type": "stream",
     "text": [
      "Yourt employee works in IR region. The bonus applied to this region is 1.09\n",
      "salary x bonus = 163,500\n",
      "Yourt employee works in DE region. The bonus applied to this region is 1.07\n",
      "salary x bonus = 160,500\n",
      "Yourt employee works in FR region. The bonus applied to this region is 1.25\n",
      "salary x bonus = 187,500\n"
     ]
    }
   ],
   "source": [
    "internal void CalculateSalaryWithBonus(string region, decimal salary) {\n",
    "    decimal bonus;\n",
    "    twoDigitsRegionCode = \"IR\";\n",
    "\n",
    "    switch (region.ToUpper()) {       \n",
    "        case \"IR\":\n",
    "            bonus = 1.09M;\n",
    "            break;                  // Every case should have a return or break or goto, unless you get compile time error.\n",
    "        default:                    // There should be always a default in the statement. The default case is evaluated \n",
    "            bonus = 1.25M;          // at the end, no matter where it is in the block. \n",
    "            break;\n",
    "        case \"DE\":\n",
    "            bonus = 1.07M;\n",
    "            break;\n",
    "    }\n",
    "\n",
    "    Console.WriteLine($\"Yourt employee works in {region} region. The bonus applied to this region is {bonus:N2}\");\n",
    "    Console.WriteLine($\"salary x bonus = {salary * bonus:N0}\");\n",
    "}\n",
    "\n",
    "CalculateSalaryWithBonus(\"IR\", 150_000M);\n",
    "CalculateSalaryWithBonus(\"DE\", 150_000M);\n",
    "CalculateSalaryWithBonus(\"FR\", 150_000M);\n",
    "\n"
   ]
  },
  {
   "cell_type": "code",
   "execution_count": 1,
   "metadata": {
    "dotnet_interactive": {
     "language": "csharp"
    },
    "polyglot_notebook": {
     "kernelName": "csharp"
    }
   },
   "outputs": [
    {
     "name": "stdout",
     "output_type": "stream",
     "text": [
      "Nothing special!\n",
      "Nothing special!\n",
      "Licky six!. You won a bonus round!\n",
      "Nothing special!\n",
      "Nothing special!\n",
      "Nothing special!\n",
      "Nothing special!\n",
      "Nothing special!\n",
      "Nothing special!\n",
      "Nothing special!\n",
      "Nothing special!\n",
      "Nothing special!\n",
      "Nothing special!\n",
      "Nothing special!\n",
      "Licky six!. You won a bonus round!\n",
      "Nothing special!\n",
      "Lucky 7! You have a bonus card!\n",
      "Lucky 7! You have a bonus card!\n",
      "Nothing special!\n",
      "Licky six!. You won a bonus round!\n"
     ]
    }
   ],
   "source": [
    "internal void DiceNShine() {\n",
    "    int diceOne = Random.Shared.Next(0,7);\n",
    "    int diceTwo = Random.Shared.Next(0,7);\n",
    "\n",
    "    switch (diceOne, diceTwo) {\n",
    "        case (6, 6):\n",
    "            Console.WriteLine(\"Licky six!. You won a bonus round!\");\n",
    "            break;\n",
    "        case (_, _) when diceOne + diceTwo == 7:                        // How to use case gaurd (when) whitout evaluating switch expression  \n",
    "        // case (var _, var _) when diceOne + diceTwo == 7:             // It works exactly as above\n",
    "        // case (var a, var b) when a + b == 7:                         // It works exactly as above\n",
    "        // case (_) when diceOne + diceTwo == 7:                        // That doesn't work \n",
    "\n",
    "            Console.WriteLine(\"Lucky 7! You have a bonus card!\");\n",
    "            break;\n",
    "        default:\n",
    "            Console.WriteLine(\"Nothing special!\"); \n",
    "            break;\n",
    "\n",
    "    }\n",
    "}\n",
    "\n",
    "for (int i = 0; i < 20; i++) {\n",
    "    DiceNShine();\n",
    "}\n"
   ]
  },
  {
   "cell_type": "markdown",
   "metadata": {},
   "source": [
    "## switch expression "
   ]
  }
 ],
 "metadata": {
  "kernelspec": {
   "display_name": ".NET (C#)",
   "language": "C#",
   "name": ".net-csharp"
  },
  "language_info": {
   "name": "polyglot-notebook"
  },
  "polyglot_notebook": {
   "kernelInfo": {
    "defaultKernelName": "csharp",
    "items": [
     {
      "aliases": [],
      "languageName": "csharp",
      "name": "csharp"
     }
    ]
   }
  }
 },
 "nbformat": 4,
 "nbformat_minor": 2
}
