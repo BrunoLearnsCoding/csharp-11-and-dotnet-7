{
 "cells": [
  {
   "cell_type": "markdown",
   "metadata": {},
   "source": [
    "# How to debug in Visual Studio Code \n",
    "\n",
    "\n",
    "https://code.visualstudio.com/docs/csharp/debugging"
   ]
  },
  {
   "cell_type": "markdown",
   "metadata": {},
   "source": [
    "# Hot reload\n",
    "\n",
    "<p>The below command starts a program with hot reoald enabled</p>\n",
    "\n",
    "dotnet watch run --launch-profile hotreloadprofile"
   ]
  },
  {
   "cell_type": "markdown",
   "metadata": {},
   "source": [
    "# How to configure Trace\n",
    "\n",
    "See \"Debugging - Practice\" project"
   ]
  },
  {
   "cell_type": "markdown",
   "metadata": {},
   "source": [
    "# What are the nuget packagess needed for using configuration files in .Net apps\n",
    "\n",
    "1. dotnet add package Microsoft.Extensions.Configuration\n",
    "2. dotnet add package Microsoft.Extensions.Configuration.Binder\n",
    "3. dotnet add package Microsoft.Extensions.Configuration.FileExtensions\n",
    "4. dotnet add package Microsoft.Extensions.Configuration.Json"
   ]
  },
  {
   "cell_type": "markdown",
   "metadata": {},
   "source": [
    "# How to run projects in Debug and Release mode\n",
    "\n",
    "1. dotnet run --configuration Debug\n",
    "2. dotnet run --configuration Release       // In this mode \"Debug\" class won't work and just Trace writes to log file"
   ]
  }
 ],
 "metadata": {
  "kernelspec": {
   "display_name": ".NET (C#)",
   "language": "C#",
   "name": ".net-csharp"
  },
  "language_info": {
   "name": "polyglot-notebook"
  },
  "polyglot_notebook": {
   "kernelInfo": {
    "defaultKernelName": "csharp",
    "items": [
     {
      "aliases": [],
      "languageName": "csharp",
      "name": "csharp"
     }
    ]
   }
  }
 },
 "nbformat": 4,
 "nbformat_minor": 2
}
