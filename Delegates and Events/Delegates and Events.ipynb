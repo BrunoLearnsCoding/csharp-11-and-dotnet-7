{
 "cells": [
  {
   "cell_type": "markdown",
   "metadata": {},
   "source": [
    "# Delegates & Events\n",
    "\n",
    "C# reference page : https://learn.microsoft.com/en-us/dotnet/standard/delegates-lambdas\n",
    "\n",
    "## What is a delegate? and how to instantiate it?\n",
    "\n",
    "The delegate definition by C# reference :\n",
    "\n",
    "\"A delegate defines a type that represents references to methods that have a particular parameter list and return type.\"\n",
    "\n",
    "In my understanding, a delegate is a kind of reference type in C#. It's a type-safe function pointer which stores references to static or instance method(s). It should be instantiated before using like any other reference type. However, if you assign a method to a declared delegate, it would be instantiated automatically behined the scene and you dont need to instantiate it explicitly.\n",
    "\n",
    "\n",
    "\n",
    "\n",
    "\n",
    "\n",
    "\n"
   ]
  },
  {
   "cell_type": "code",
   "execution_count": 1,
   "metadata": {
    "dotnet_interactive": {
     "language": "csharp"
    },
    "polyglot_notebook": {
     "kernelName": "csharp"
    }
   },
   "outputs": [],
   "source": [
    "public delegate int AddDelegate(int a, int b);"
   ]
  },
  {
   "cell_type": "code",
   "execution_count": 2,
   "metadata": {
    "dotnet_interactive": {
     "language": "csharp"
    },
    "polyglot_notebook": {
     "kernelName": "csharp"
    }
   },
   "outputs": [
    {
     "name": "stdout",
     "output_type": "stream",
     "text": [
      "This is 'AddNumber' method calculating ...\n",
      "This is 'AddTwoNumber' method calculating ...\n",
      "9\n"
     ]
    }
   ],
   "source": [
    "public int AddNumbers(int no1, int no2) {\n",
    "    Console.WriteLine(\"This is 'AddNumber' method calculating ...\");\n",
    "    return no1 + no2;\n",
    "\n",
    "}\n",
    "\n",
    "public int AddTwoNumbers(int no1, int no2) {\n",
    "   Console.WriteLine(\"This is 'AddTwoNumber' method calculating ...\");\n",
    "\n",
    "    return no1 + no2;\n",
    "}\n",
    "\n",
    "                                        // To assign a method to a delegate you should use += operator\n",
    "                                        // To remove a method from a delegate you should use -= operator\n",
    "AddDelegate addDelegate;\n",
    "addDelegate += AddNumbers;              // You can add more methods to a deleagte\n",
    "addDelegate += AddTwoNumbers;\n",
    "\n",
    "\n",
    "Console.WriteLine(addDelegate(4,5));    // Surprisingly, Console.WriteLine prints out just the last method's returning value."
   ]
  },
  {
   "cell_type": "markdown",
   "metadata": {},
   "source": [
    "The delegate above declares the signature for methods which can be assigned to this delegate. Every method with such a signature could be assigned to this delegate, no matter it is static or instance method.\n"
   ]
  },
  {
   "cell_type": "markdown",
   "metadata": {},
   "source": [
    "## What are delegate's applications?\n",
    "\n",
    "### 1- Event handling\n",
    "One of the main applications of delegates is in event handling. There are two predefind delegates in .Net which could be used as the types to handle events in c# classes. \n",
    "\n",
    "public delegate void EventHandler(object? sender, EventArgs e);\n",
    "\n",
    "public delegate void EventHandler<TEventArgs>(object? sender, EventArgs e);\n",
    "\n",
    "These predefind delegates could be used to handle events which handle an event that has no event data. If you want to pass event data to the invoked methods, you have to extend EventArgs class. As an example :\n",
    "\n",
    "```\n",
    "public class ThresholdReachedEventArgs : EventArgs {\n",
    "    public int Threshold {get; set;}\n",
    "    punlic DateTime TimeReached {get; set;}\n",
    "}\n",
    "\n",
    "```\n",
    "\n",
    "Note: When you want to handle events, you are not limited the the predefined delegates in .Net. You can declare your own delegates and use them to handle events delebrately.\n",
    "\n",
    "#### Samples\n",
    "\n",
    "\n",
    "<span style=\"color:LightGreen\"> in \"Mini Project - Task Scheduler \" project I used a custom delegate in TaimeMachine class to notify all TaskModel instances when the time is changed. This triggers, in return, the event handler mechanism of the TaskModel instances which notify TaskMonitor instance to display the tasks that are due or overdure.</span>\n",
    "\n",
    "<span style=\"color:LightGreen\"> in \"Mini Project - Temperature Monitoruing System \" project I used EventHandler delegate to notify a TemperatureDisplay class when temperature measured or the temperature measured is above 50 dgreees. </span>\n",
    "\n"
   ]
  },
  {
   "cell_type": "markdown",
   "metadata": {},
   "source": [
    "### 2 - Callbacks"
   ]
  },
  {
   "cell_type": "markdown",
   "metadata": {},
   "source": [
    "Using callbacks we can send the reference of a method to another method in order to be called later when for example a condition met.\n",
    "\n",
    "Callbacks in C# are created using delegates. You can define a delegate with desired signature to be used as the signature of the method which is to be passed to another method and then be called later from within that method.\n",
    "\n"
   ]
  },
  {
   "cell_type": "markdown",
   "metadata": {},
   "source": [
    "#### Samples\n",
    "\n",
    "\n",
    "<span style=\"color:LightGreen\"> in \"Mini Project - Task Scheduler by Callbacks\" project I used a delegate defiened in TaskRepository class. When the time changes (with event-handling mechansim for time forwarding simulation), TaskScheduler calls ProcessInntimateTasks method of the repository and passes the reference of it's own method named PrintOut to be used later to print tasks which are just dued\"  </span>"
   ]
  }
 ],
 "metadata": {
  "kernelspec": {
   "display_name": ".NET (C#)",
   "language": "C#",
   "name": ".net-csharp"
  },
  "language_info": {
   "name": "polyglot-notebook"
  },
  "polyglot_notebook": {
   "kernelInfo": {
    "defaultKernelName": "csharp",
    "items": [
     {
      "aliases": [],
      "languageName": "csharp",
      "name": "csharp"
     }
    ]
   }
  }
 },
 "nbformat": 4,
 "nbformat_minor": 2
}
