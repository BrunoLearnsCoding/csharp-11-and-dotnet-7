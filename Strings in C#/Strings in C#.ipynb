{
 "cells": [
  {
   "cell_type": "markdown",
   "metadata": {},
   "source": [
    "<h1 style=\"color:coral\">Strings in C#</h1>\n",
    "\n",
    "Resource(s):\n",
    "\n",
    "[Microsoft C# programming guide](https://learn.microsoft.com/en-us/dotnet/csharp/programming-guide/strings/)"
   ]
  },
  {
   "cell_type": "markdown",
   "metadata": {},
   "source": [
    "<h2 style=\"color:Gold;font-size:24px\"> What is the difference between string keyword and System.String class? </h2>\n",
    "\n",
    "In C#, the string keyword is an alias for String; therefore, String and string are equivalent. It's recommended to use the provided alias string as it works even without using System;"
   ]
  },
  {
   "cell_type": "markdown",
   "metadata": {},
   "source": [
    "<h2 style=\"color:Gold;font-size:24px\">How to declare a string</h2>"
   ]
  },
  {
   "cell_type": "code",
   "execution_count": 13,
   "metadata": {
    "dotnet_interactive": {
     "language": "csharp"
    },
    "polyglot_notebook": {
     "kernelName": "csharp"
    }
   },
   "outputs": [],
   "source": [
    "string s41;                 // string keyword is a shortcut to the object System.String\n",
    "System.String s42;"
   ]
  },
  {
   "cell_type": "markdown",
   "metadata": {},
   "source": [
    "<h2 style=\"color:Gold;font-size:24px\">How to initialize a string?</h2>"
   ]
  },
  {
   "cell_type": "code",
   "execution_count": 8,
   "metadata": {
    "dotnet_interactive": {
     "language": "csharp"
    },
    "polyglot_notebook": {
     "kernelName": "csharp"
    }
   },
   "outputs": [
    {
     "ename": "Error",
     "evalue": "(7,1): error CS0131: The left-hand side of an assignment must be a variable, property or indexer",
     "output_type": "error",
     "traceback": [
      "(7,1): error CS0131: The left-hand side of an assignment must be a variable, property or indexer"
     ]
    }
   ],
   "source": [
    "string s1 = \"Hello world!\";    // by assigning a string literal\n",
    "string s2 = new('-', 50);      // by calling a string's class constructor which makes a string from an array of chars.\n",
    "var s6 = \"Hello world!\";       // \"local\" variables could be declared and initialized using var keywork.\n",
    "\n",
    "\n",
    "const string s3 = \"Hello World!\";   //s3 could not be changed;\n",
    "s3 = \"Hello world changed\";         // gets compiler error \"Error: (5,1): error CS0131: The left-hand side of an assignment must be a variable, property or indexer\"\n",
    " "
   ]
  },
  {
   "cell_type": "markdown",
   "metadata": {},
   "source": [
    "<h2 style=\"color:Gold;font-size:24px\">Assigning null or Empty to a String?</h2>"
   ]
  },
  {
   "cell_type": "code",
   "execution_count": 12,
   "metadata": {
    "dotnet_interactive": {
     "language": "csharp"
    },
    "polyglot_notebook": {
     "kernelName": "csharp"
    }
   },
   "outputs": [
    {
     "name": "stdout",
     "output_type": "stream",
     "text": [
      "\n",
      "\n",
      "s10 is null:True\n",
      "s11 is null:False\n"
     ]
    }
   ],
   "source": [
    "string s4 = null;\n",
    "string s5 = System.String.Empty;    // Is equal to \"\"\n",
    "string s6 = \"\";                     // Is equal to System.String.Empty\n",
    "\n",
    "Console.WriteLine(s4);\n",
    "Console.WriteLine(s5);\n",
    "\n",
    "string s10;                         // It's null when you declare a string.\n",
    "string s11 = string.Empty;          // When you assign string.Empty to a string variable, it's not null anymore.\n",
    "                                    // Assigning system.Empty to a string prevents null reference errors.\n",
    "                                    \n",
    "Console.WriteLine($\"s10 is null:{s10 == null}\");\n",
    "Console.WriteLine($\"s11 is null:{s11 == null}\");\n",
    "\n"
   ]
  },
  {
   "cell_type": "markdown",
   "metadata": {},
   "source": [
    "### What is lenght of string.Empty"
   ]
  },
  {
   "cell_type": "code",
   "execution_count": 1,
   "metadata": {
    "dotnet_interactive": {
     "language": "csharp"
    },
    "polyglot_notebook": {
     "kernelName": "csharp"
    }
   },
   "outputs": [
    {
     "name": "stdout",
     "output_type": "stream",
     "text": [
      "0\r\n"
     ]
    }
   ],
   "source": [
    "string s = string.Empty;\n",
    "Console.WriteLine(s.Length);"
   ]
  }
 ],
 "metadata": {
  "kernelspec": {
   "display_name": ".NET (C#)",
   "language": "C#",
   "name": ".net-csharp"
  },
  "language_info": {
   "name": "polyglot-notebook"
  },
  "polyglot_notebook": {
   "kernelInfo": {
    "defaultKernelName": "csharp",
    "items": [
     {
      "aliases": [],
      "languageName": "csharp",
      "name": "csharp"
     }
    ]
   }
  }
 },
 "nbformat": 4,
 "nbformat_minor": 2
}
