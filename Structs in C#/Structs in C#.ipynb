{
 "cells": [
  {
   "cell_type": "markdown",
   "metadata": {},
   "source": [
    "# Structs in C#\n",
    "\n",
    "\n",
    "1. sructs are not comparable using operands by default: \n",
    "First, you should override the following method to made them comparable \n",
    "and then you should define == and != operators.\n",
    "\n",
    "    public override bool Equals(object? obj)\n",
    "\n",
    "\n",
    "2. structs can't be defiend in one line like records.\n",
    "3. Instantiating larg number of struct can cause Stack overflow exception because\n",
    "they reside on the stack. \n",
    "\n",
    "4. Structs can have constructors. Costructors could be used to validate data before object instantiation.\n",
    "5. Sructs can have static members.\n",
    "6. Structs can't implement interfaces.\n"
   ]
  }
 ],
 "metadata": {
  "kernelspec": {
   "display_name": ".NET (C#)",
   "language": "C#",
   "name": ".net-csharp"
  },
  "language_info": {
   "name": "polyglot-notebook"
  },
  "polyglot_notebook": {
   "kernelInfo": {
    "defaultKernelName": "csharp",
    "items": [
     {
      "aliases": [],
      "languageName": "csharp",
      "name": "csharp"
     }
    ]
   }
  }
 },
 "nbformat": 4,
 "nbformat_minor": 2
}
