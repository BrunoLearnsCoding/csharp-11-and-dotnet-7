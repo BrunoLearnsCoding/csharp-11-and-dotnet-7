{
 "cells": [
  {
   "cell_type": "markdown",
   "metadata": {},
   "source": [
    "<h1 style=\"color:coral\">Arrays in C#</h1>\n",
    "\n",
    "<p>Resources:</p>\n",
    "\n",
    "[Microsft C# Reference](https://learn.microsoft.com/en-us/dotnet/csharp/language-reference/builtin-types/arrays)"
   ]
  },
  {
   "cell_type": "markdown",
   "metadata": {},
   "source": [
    "<h2 style=\"color:Gold;font-size:24px\">What type of arrays exist in C#</h2>\n",
    "\n",
    "### There are two types of arrays in C#\n",
    "1. Single-dimensional arrays\n",
    "2. Multidimentional arrays\n",
    "3. Jagged arrays"
   ]
  },
  {
   "cell_type": "markdown",
   "metadata": {},
   "source": [
    "<h2 style=\"color:Gold;font-size:24px\">How to declare and initialize a single- / multidimensional array?</h2>"
   ]
  },
  {
   "cell_type": "code",
   "execution_count": 12,
   "metadata": {
    "dotnet_interactive": {
     "language": "csharp"
    },
    "polyglot_notebook": {
     "kernelName": "csharp"
    }
   },
   "outputs": [
    {
     "data": {
      "text/html": [
       "<div class=\"dni-plaintext\"><pre>[ &lt;null&gt;, &lt;null&gt;, &lt;null&gt;, &lt;null&gt;, &lt;null&gt;, &lt;null&gt;, &lt;null&gt;, &lt;null&gt; ]</pre></div><style>\r\n",
       ".dni-code-hint {\r\n",
       "    font-style: italic;\r\n",
       "    overflow: hidden;\r\n",
       "    white-space: nowrap;\r\n",
       "}\r\n",
       ".dni-treeview {\r\n",
       "    white-space: nowrap;\r\n",
       "}\r\n",
       ".dni-treeview td {\r\n",
       "    vertical-align: top;\r\n",
       "    text-align: start;\r\n",
       "}\r\n",
       "details.dni-treeview {\r\n",
       "    padding-left: 1em;\r\n",
       "}\r\n",
       "table td {\r\n",
       "    text-align: start;\r\n",
       "}\r\n",
       "table tr { \r\n",
       "    vertical-align: top; \r\n",
       "    margin: 0em 0px;\r\n",
       "}\r\n",
       "table tr td pre \r\n",
       "{ \r\n",
       "    vertical-align: top !important; \r\n",
       "    margin: 0em 0px !important;\r\n",
       "} \r\n",
       "table th {\r\n",
       "    text-align: start;\r\n",
       "}\r\n",
       "</style>"
      ]
     },
     "metadata": {},
     "output_type": "display_data"
    }
   ],
   "source": [
    "string[] names;                     // Single-dimensional array delaration.\n",
    "string[,] table;                    // Two-dimensional(multidimensional) array declaration. \n",
    "\n",
    "\n",
    "int[] numbers = {2, 5, 7, 9};                   // Using an array initializer\n",
    "int[,] dimensions = new[,] {                    // Two-dimensional array initialized by an array initializer. The new keyword  \n",
    "                                                // and its braces could be ommited.\n",
    "    {2,8,9} , {7,6,9} , {11,6,6} , {5,7,5}      // Note: the lenght of arrays should be the same, unless you get a compiler error.\n",
    "};                                              // Note: type of array elements should be the same as what has been declared.\n",
    "// int[] grades = [15,15,16,96,2];              // With C# 12 (.Net 8), you can use 'collection expression' to initialize an array.\n",
    "                                                // for more information about collection expression see Microsoft's C# documentation\n",
    "\n",
    "\n",
    "\n",
    "names = new string[10];             // Initializing an array using new keyword\n",
    "table = new string[4,2]             // Initializing an array using new keyword\n",
    "                                            "
   ]
  },
  {
   "cell_type": "code",
   "execution_count": 13,
   "metadata": {
    "dotnet_interactive": {
     "language": "csharp"
    },
    "polyglot_notebook": {
     "kernelName": "csharp"
    }
   },
   "outputs": [],
   "source": [
    "var animals = new[] {\"Lion\", \"Wolf\", \"Fox\", \"Rabbit\"};\n",
    "string[] birds = {\"Eagle\", \"Pinguin\"};\n",
    "string[] reptiles = {\"American Alligator\",\"Gopher Tortoise\",\"California Kingsnake\",\"Gila Monster\"};\n",
    "\n"
   ]
  },
  {
   "cell_type": "markdown",
   "metadata": {},
   "source": [
    "<h2 style=\"color:Gold;font-size:24px\">How to loop through multidimensional arrays?</h2>"
   ]
  },
  {
   "cell_type": "code",
   "execution_count": 25,
   "metadata": {
    "dotnet_interactive": {
     "language": "csharp"
    },
    "polyglot_notebook": {
     "kernelName": "csharp"
    }
   },
   "outputs": [
    {
     "name": "stdout",
     "output_type": "stream",
     "text": [
      "looping through a single-dimensional array using for loop\n",
      "2\n",
      "5\n",
      "7\n",
      "9\n",
      "looping through a single-dimensional array using 'while' and enumerator \n",
      "2\n",
      "5\n",
      "7\n",
      "9\n"
     ]
    }
   ],
   "source": [
    "Console.WriteLine(\"looping through a single-dimensional array using for loop\");\n",
    "\n",
    "for (int i=0; i < numbers.Length; i++) {            // looping through a single-dimensional array using for loop\n",
    "    Console.WriteLine(numbers[i]);\n",
    "\n",
    "};\n",
    "Console.WriteLine(\"looping through a single-dimensional array using 'while' and enumerator \");\n",
    "var enumerator = numbers.GetEnumerator();           // C# arrays implement IEnumerator interface \n",
    "while (enumerator.MoveNext()) {                     // looping through a single-dimensional array using 'while' and enumerator  \n",
    "    Console.WriteLine(enumerator.Current);\n",
    "}\n",
    "\n"
   ]
  },
  {
   "cell_type": "code",
   "execution_count": 56,
   "metadata": {
    "dotnet_interactive": {
     "language": "csharp"
    },
    "polyglot_notebook": {
     "kernelName": "csharp"
    }
   },
   "outputs": [
    {
     "name": "stdout",
     "output_type": "stream",
     "text": [
      "looping through a two-dimensional array using for loop\n",
      "2\n",
      "8\n",
      "9\n",
      "7\n",
      "6\n",
      "9\n",
      "11\n",
      "6\n",
      "6\n",
      "5\n",
      "7\n",
      "5\n"
     ]
    }
   ],
   "source": [
    "Console.WriteLine(\"looping through a two-dimensional array using for loop\");\n",
    "\n",
    "for (int i = 0; i < dimensions.GetLength(0); i++) {             // GetLength method returen lenght of a given dimension\n",
    "    for (int j = 0; j < dimensions.GetLength(1); j++) {         // There are two dimension levels in this array [0 and 1]\n",
    "        Console.WriteLine(dimensions[i,j]);\n",
    "    }\n",
    "}"
   ]
  },
  {
   "cell_type": "markdown",
   "metadata": {},
   "source": [
    "<h2 style=\"color:Gold;font-size:24px\">How to declare and initialize a jagged arrays</h2>"
   ]
  },
  {
   "cell_type": "code",
   "execution_count": 39,
   "metadata": {
    "dotnet_interactive": {
     "language": "csharp"
    },
    "polyglot_notebook": {
     "kernelName": "csharp"
    }
   },
   "outputs": [],
   "source": [
    "int[][] queues;                             // declaration of a two dimensional jagged array\n",
    "queues = new[] {                            // Initializing an jagged array by array initializere\n",
    "    new[] {9,2,4},                          // Note that new[] could NOT be immited\n",
    "    new[] {4, 5, 6, 11, 78, 98, 1450, 5}    // Every array could be diiferent in size NOT TYPE\n",
    "};\n",
    "\n",
    "int[][] queues2 = new int[5][];             // initialization of the first dimension and letting other dimensions\n",
    "                                            // to be initilized later.\n",
    "                                            // This couldn't be done in multidimensional arrays.\n",
    "\n",
    "queues2[0] = new[] {                        // initializing the second dimention of the above array using an array initializer\n",
    "    4,5,6,9,4,5,7,9,11\n",
    "};\n",
    "\n",
    "queues2[1] = new int[2];                    // initializing the second dimention of the above array using array size\n",
    "queues2[1][0] = 78;\n",
    "queues2[1][0] = 12;\n",
    "\n"
   ]
  },
  {
   "cell_type": "markdown",
   "metadata": {},
   "source": [
    "<h2 style=\"color:Gold;font-size:24px\">How to loop through jagged arrays</h2>"
   ]
  },
  {
   "cell_type": "code",
   "execution_count": 40,
   "metadata": {
    "dotnet_interactive": {
     "language": "csharp"
    },
    "polyglot_notebook": {
     "kernelName": "csharp"
    }
   },
   "outputs": [
    {
     "name": "stdout",
     "output_type": "stream",
     "text": [
      "9\n",
      "2\n",
      "4\n",
      "4\n",
      "5\n",
      "6\n",
      "11\n",
      "78\n",
      "98\n",
      "1450\n",
      "5\n"
     ]
    }
   ],
   "source": [
    "for (int i = 0; i <= queues.GetUpperBound(0); i++) {                // Each array has its own dimension\n",
    "    for (int j = 0; j <= queues[i].GetUpperBound(0); j++) {         // GetUpperBound returns lenght of the array based on 0\n",
    "        Console.WriteLine(queues[i][j]);                            // You can use GetUpperBound() and GetLength() interchangabley \n",
    "    }                                                               // considering that GetUpperBound() is 0 based\n",
    "}"
   ]
  },
  {
   "cell_type": "markdown",
   "metadata": {},
   "source": [
    "<h2 style=\"color:Gold;font-size:24px\">How to mix multidimensional and jagged arrays</h2>"
   ]
  },
  {
   "cell_type": "code",
   "execution_count": 54,
   "metadata": {
    "dotnet_interactive": {
     "language": "csharp"
    },
    "polyglot_notebook": {
     "kernelName": "csharp"
    }
   },
   "outputs": [],
   "source": [
    "int[,][] mixed = new int[1,3][];                    // This a mixed array from multidimensional and jaaged arrays\n",
    "mixed[0,0] = new[] {45, 78, 56, 140, 63};\n",
    "mixed[0,1] = new[] {17, 56, 15, 79, 120, 14, 30, 160, 178, 12};\n",
    "\n",
    "mixed[0,2] = new int[3];\n",
    "mixed[0,2][0] = 14;\n",
    "mixed[0,2][1] = 71;\n",
    "mixed[0,2][2] = 10;\n"
   ]
  },
  {
   "cell_type": "code",
   "execution_count": 55,
   "metadata": {
    "dotnet_interactive": {
     "language": "csharp"
    },
    "polyglot_notebook": {
     "kernelName": "csharp"
    }
   },
   "outputs": [
    {
     "name": "stdout",
     "output_type": "stream",
     "text": [
      "45\n",
      "78\n",
      "56\n",
      "140\n",
      "63\n",
      "17\n",
      "56\n",
      "15\n",
      "79\n",
      "120\n",
      "14\n",
      "30\n",
      "160\n",
      "178\n",
      "12\n",
      "14\n",
      "71\n",
      "10\n"
     ]
    }
   ],
   "source": [
    "for (int i = 0; i < mixed.GetLength(0); i++) {\n",
    "    for (int j = 0; j < mixed.GetLength(1); j++) {\n",
    "        for (int k = 0; k <= mixed[i,j].GetUpperBound(0); k++) {\n",
    "            Console.WriteLine(mixed[i,j][k]);\n",
    "        }\n",
    "    }\n",
    "}"
   ]
  },
  {
   "cell_type": "markdown",
   "metadata": {},
   "source": [
    "<h2 style=\"color:Gold;font-size:24px\">Pattern matching in arrays</h2>\n",
    "\n",
    "Pattern matching guide\n",
    "https://learn.microsoft.com/en-us/dotnet/csharp/language-reference/operators/patterns#list-patterns"
   ]
  },
  {
   "cell_type": "code",
   "execution_count": 61,
   "metadata": {
    "dotnet_interactive": {
     "language": "csharp"
    },
    "polyglot_notebook": {
     "kernelName": "csharp"
    }
   },
   "outputs": [
    {
     "name": "stdout",
     "output_type": "stream",
     "text": [
      "True\r\n"
     ]
    }
   ],
   "source": [
    "string streetAddress = \"No 25, Fredrick Avenue, new york\";\n",
    "bool newYork = streetAddress.ToCharArray() is [.., 'N' or 'n','e','w', ' ', 'y', 'o', 'r', 'k'];\n",
    "Console.WriteLine(newYork);"
   ]
  },
  {
   "cell_type": "code",
   "execution_count": null,
   "metadata": {
    "dotnet_interactive": {
     "language": "csharp"
    },
    "polyglot_notebook": {
     "kernelName": "csharp"
    }
   },
   "outputs": [],
   "source": [
    "// TODO: Complete pattern matching in arrays using the Book and the C# guide (the link is above)"
   ]
  },
  {
   "cell_type": "markdown",
   "metadata": {},
   "source": [
    "# How to compare arrays ?"
   ]
  },
  {
   "cell_type": "code",
   "execution_count": 2,
   "metadata": {
    "dotnet_interactive": {
     "language": "csharp"
    },
    "polyglot_notebook": {
     "kernelName": "csharp"
    }
   },
   "outputs": [
    {
     "name": "stdout",
     "output_type": "stream",
     "text": [
      "False\n",
      "True\n"
     ]
    }
   ],
   "source": [
    "var a1 = new[] {1,4,6};\n",
    "var a2 = new[] {1,4,6};\n",
    "Console.WriteLine(a1 == a2);                                \n",
    "Console.WriteLine(Enumerable.SequenceEqual<int>(a1,a2));    //Using Enumerable.SequenceEqual<T>() you can copare any IEnumerable\n"
   ]
  }
 ],
 "metadata": {
  "kernelspec": {
   "display_name": ".NET (C#)",
   "language": "C#",
   "name": ".net-csharp"
  },
  "language_info": {
   "name": "polyglot-notebook"
  },
  "polyglot_notebook": {
   "kernelInfo": {
    "defaultKernelName": "csharp",
    "items": [
     {
      "aliases": [],
      "languageName": "csharp",
      "name": "csharp"
     }
    ]
   }
  }
 },
 "nbformat": 4,
 "nbformat_minor": 2
}
