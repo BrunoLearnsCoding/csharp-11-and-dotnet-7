{
 "cells": [
  {
   "cell_type": "markdown",
   "metadata": {},
   "source": [
    "# Configuration in .NET\n",
    "\n",
    "## Resource pages on Microsoft .NET documentation\n",
    "\n",
    "[Configuration in .NET](https://learn.microsoft.com/en-us/dotnet/core/extensions/configuration#configuration-providers)\n",
    "\n",
    "[Configuration Providers](https://learn.microsoft.com/en-us/dotnet/core/extensions/configuration-providers#command-line-configuration-provider)\n",
    "\n"
   ]
  },
  {
   "cell_type": "markdown",
   "metadata": {},
   "source": [
    "## Configuration Providers\n",
    "\n",
    "There are five types of configuration providers in .NET :\n",
    "\n",
    "- File configuration provider\n",
    "- Environment variable configuration provider\n",
    "- Command-line configuration provider\n",
    "- Key-per-file configuration provider\n",
    "- Memory configuration provider\n",
    "\n",
    "To read more about configuration providers in detail click on this link :\n",
    "[Configuration Providers](https://learn.microsoft.com/en-us/dotnet/core/extensions/configuration-providers#command-line-configuration-provider)"
   ]
  },
  {
   "cell_type": "markdown",
   "metadata": {},
   "source": [
    "## Command-line configuration provider\n",
    "\n",
    "There are "
   ]
  },
  {
   "cell_type": "code",
   "execution_count": null,
   "metadata": {
    "dotnet_interactive": {
     "language": "csharp"
    },
    "polyglot_notebook": {
     "kernelName": "csharp"
    }
   },
   "outputs": [],
   "source": [
    "using Microsoft.Extensions.Configuration;\n",
    "\n",
    "var configuration = new ConfigurationBuilder()\n",
    "    .AddInMemoryCollection(new Dictionary<string, string?>()\n",
    "    {\n",
    "        [\"SomeKey\"] = \"SomeValue\"\n",
    "    })\n",
    "    .Build();\n",
    "\n",
    "Console.WriteLine(configuration[\"SomeKey\"]);\n",
    "\n",
    "// Outputs:\n",
    "//   SomeValue"
   ]
  }
 ],
 "metadata": {
  "kernelspec": {
   "display_name": ".NET (C#)",
   "language": "C#",
   "name": ".net-csharp"
  },
  "language_info": {
   "name": "polyglot-notebook"
  },
  "polyglot_notebook": {
   "kernelInfo": {
    "defaultKernelName": "csharp",
    "items": [
     {
      "aliases": [],
      "languageName": "csharp",
      "name": "csharp"
     }
    ]
   }
  }
 },
 "nbformat": 4,
 "nbformat_minor": 2
}
