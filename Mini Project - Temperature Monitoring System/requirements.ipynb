{
 "cells": [
  {
   "cell_type": "markdown",
   "metadata": {},
   "source": [
    "**Mini Project: Temperature Monitoring System**\n",
    "\n",
    "**Description:**\n",
    "Create a simple temperature monitoring system using C# without displaying code. The project should consist of the following components:\n",
    "\n",
    "1. **TemperatureSensor Class:**\n",
    "   - Represent a temperature sensor.\n",
    "   - Generate random temperature readings.\n",
    "   - Define a mechanism to notify when a temperature reading is taken.\n",
    "\n",
    "2. **TemperatureDisplay Class:**\n",
    "   - Represent a display unit for showing temperature.\n",
    "   - Subscribe to the TemperatureSensor's notification mechanism to receive temperature updates.\n",
    "   - Display the latest temperature reading.\n",
    "\n",
    "3. **Main Program:**\n",
    "   - Instantiate a TemperatureSensor and a TemperatureDisplay.\n",
    "   - Utilize a mechanism like delegates and events to establish communication between the TemperatureSensor and TemperatureDisplay.\n",
    "   - Simulate temperature readings and observe the updates on the display.\n",
    "\n",
    "By working on this project, you'll gain practical experience with the concepts of delegates and events in C#."
   ]
  }
 ],
 "metadata": {
  "kernelspec": {
   "display_name": ".NET (C#)",
   "language": "C#",
   "name": ".net-csharp"
  },
  "language_info": {
   "name": "polyglot-notebook"
  },
  "polyglot_notebook": {
   "kernelInfo": {
    "defaultKernelName": "csharp",
    "items": [
     {
      "aliases": [],
      "languageName": "csharp",
      "name": "csharp"
     }
    ]
   }
  }
 },
 "nbformat": 4,
 "nbformat_minor": 2
}
