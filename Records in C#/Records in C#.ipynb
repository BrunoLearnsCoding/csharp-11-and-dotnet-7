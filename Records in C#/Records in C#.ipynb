{
 "cells": [
  {
   "cell_type": "markdown",
   "metadata": {},
   "source": [
    "# Records in C#\n",
    "\n",
    "Resource : https://learn.microsoft.com/en-us/dotnet/csharp/language-reference/builtin-types/record\n",
    "\n",
    "\n",
    "## General facts\n",
    "1. Records are special classes with built-in immutbility features.\n",
    "2. Records are immutable by design but you can tweak them to be mutable which is not recommended.\n",
    "3. records are comparable by default using == and != operands.\n",
    "4. Compiler synthesises an Equals method behind the seen for every record\n",
    "which compares records based on its public properties (or fields?) \n",
    "5. To override the synthesized Equals method, you can't override\n",
    " public override bool Equals(object? obj) and should override the following method\n",
    "     public virtual bool Equals(R? obj)\n",
    "\n",
    "\n",
    "6. Records could be declared just in one line.\n",
    "7. Records, like other classes, can Implement interfaces.\n",
    "8. Records can inheret from other records NOT classes.\n",
    "9. Records reside on the heap and are destructed by garbage collection."
   ]
  }
 ],
 "metadata": {
  "kernelspec": {
   "display_name": ".NET (C#)",
   "language": "C#",
   "name": ".net-csharp"
  },
  "language_info": {
   "name": "polyglot-notebook"
  },
  "polyglot_notebook": {
   "kernelInfo": {
    "defaultKernelName": "csharp",
    "items": [
     {
      "aliases": [],
      "languageName": "csharp",
      "name": "csharp"
     }
    ]
   }
  }
 },
 "nbformat": 4,
 "nbformat_minor": 2
}
