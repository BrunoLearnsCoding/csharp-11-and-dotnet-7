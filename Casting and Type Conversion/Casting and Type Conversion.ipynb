{
 "cells": [
  {
   "cell_type": "code",
   "execution_count": 1,
   "metadata": {
    "dotnet_interactive": {
     "language": "csharp"
    },
    "polyglot_notebook": {
     "kernelName": "csharp"
    }
   },
   "outputs": [
    {
     "name": "stdout",
     "output_type": "stream",
     "text": [
      "9223372036854775807\n",
      "2147483647\n",
      "255\n",
      "Long number is 8 bytes\n",
      "Integer number is 4 bytes\n",
      "Byte number is 1 bytes\n",
      "4 and 76565 are equal: False\n",
      "2147483647 and 9223372036854775807 are equal: False\n",
      "25\n",
      "9,223,372,036,854,775,807\n",
      "-9,223,372,036,854,775,808\n"
     ]
    }
   ],
   "source": [
    "// The compiler casts impicitly types when there is no risk of data loss.\n",
    "\n",
    "int intNumber = 4;\n",
    "long longNumber = 76565;\n",
    "double doubleNumber = 25.9;\n",
    "\n",
    "// longNumber = intNumber;\n",
    "System.Console.WriteLine(long.MaxValue);\n",
    "System.Console.WriteLine(int.MaxValue);\n",
    "System.Console.WriteLine(byte.MaxValue);\n",
    "Console.WriteLine($\"Long number is {sizeof(long)} bytes\");\n",
    "Console.WriteLine($\"Integer number is {sizeof(int)} bytes\");\n",
    "Console.WriteLine($\"Byte number is {sizeof(byte)} bytes\");\n",
    "\n",
    "Console.WriteLine($\"{intNumber} and {longNumber} are equal: {intNumber == longNumber}\");\n",
    "Console.WriteLine($\"{int.MaxValue} and {long.MaxValue} are equal: {int.MaxValue == long.MaxValue}\");\n",
    "\n",
    "int casted = (int) longNumber;\n",
    "\n",
    "intNumber = (int) doubleNumber;\n",
    "Console.WriteLine(intNumber);\n",
    "\n",
    "// intNumber = (int) double.MaxValue;          // Gives Compile time error : This error is related to overflow exception not casting.\n",
    "\n",
    "//intNumber = System.Convert.ToInt32(double.MaxValue);    // Throws runtime Oferflow Exception\n",
    "//Console.WriteLine(intNumber);        \n",
    "\n",
    "Int64 int64;\n",
    "Console.WriteLine($\"{Int64.MaxValue:N0}\");\n",
    "Console.WriteLine($\"{Int64.MinValue:N0}\");\n"
   ]
  },
  {
   "cell_type": "markdown",
   "metadata": {},
   "source": [
    "### checked & unckecked statements\n",
    "\n",
    "C# compile throws an exeption by default if an overfolw occures. If you want to disable this, you can use unchecked statement :"
   ]
  },
  {
   "cell_type": "code",
   "execution_count": 8,
   "metadata": {
    "dotnet_interactive": {
     "language": "csharp"
    },
    "polyglot_notebook": {
     "kernelName": "csharp"
    }
   },
   "outputs": [
    {
     "name": "stdout",
     "output_type": "stream",
     "text": [
      "Unchecked overflow occurance.\n",
      "2147483646\n",
      "2147483647\n",
      "-2147483648\n"
     ]
    },
    {
     "ename": "Error",
     "evalue": "System.OverflowException: Arithmetic operation resulted in an overflow.\r\n   at Submission#9.<<Initialize>>d__0.MoveNext()\r\n--- End of stack trace from previous location ---\r\n   at Microsoft.CodeAnalysis.Scripting.ScriptExecutionState.RunSubmissionsAsync[TResult](ImmutableArray`1 precedingExecutors, Func`2 currentExecutor, StrongBox`1 exceptionHolderOpt, Func`2 catchExceptionOpt, CancellationToken cancellationToken)",
     "output_type": "error",
     "traceback": [
      "System.OverflowException: Arithmetic operation resulted in an overflow.\r\n",
      "   at Submission#9.<<Initialize>>d__0.MoveNext()\r\n",
      "--- End of stack trace from previous location ---\r\n",
      "   at Microsoft.CodeAnalysis.Scripting.ScriptExecutionState.RunSubmissionsAsync[TResult](ImmutableArray`1 precedingExecutors, Func`2 currentExecutor, StrongBox`1 exceptionHolderOpt, Func`2 catchExceptionOpt, CancellationToken cancellationToken)"
     ]
    }
   ],
   "source": [
    "int value = int.MaxValue;\n",
    "\n",
    "\n",
    "value = value - 1;\n",
    "Console.WriteLine(\"Unchecked overflow occurance.\");\n",
    "Console.WriteLine(value++);\n",
    "Console.WriteLine(value++);         // The value overflows silently;\n",
    "Console.WriteLine(value++);         \n",
    "\n",
    "value = int.MaxValue;\n",
    "checked {\n",
    "    Console.WriteLine(value++);\n",
    "    Console.WriteLine(value++);     // Causes overfolw exception;\n",
    "    Console.WriteLine(value++);     \n",
    "};\n",
    "\n"
   ]
  },
  {
   "cell_type": "markdown",
   "metadata": {},
   "source": [
    "### Devide by zero"
   ]
  },
  {
   "cell_type": "code",
   "execution_count": null,
   "metadata": {
    "dotnet_interactive": {
     "language": "csharp"
    },
    "polyglot_notebook": {
     "kernelName": "csharp"
    }
   },
   "outputs": [],
   "source": [
    "int intToDevide = 748;\n",
    "double doubleToDevide = 45.78;\n",
    "try {\n",
    "    System.Console.WriteLine(intToDevide / 0);               // Throws a DevideByZeroExeption\n",
    "\n",
    "\n",
    "}\n",
    "catch (Exception ex) {\n",
    "            System.Console.WriteLine($\"A {ex.GetType()} exeption occured.\");\n",
    "}\n",
    "\n",
    "System.Console.WriteLine(doubleToDevide / 0);       // Returns infinity \n"
   ]
  },
  {
   "cell_type": "code",
   "execution_count": 9,
   "metadata": {
    "dotnet_interactive": {
     "language": "csharp"
    },
    "polyglot_notebook": {
     "kernelName": "csharp"
    }
   },
   "outputs": [
    {
     "ename": "Error",
     "evalue": "Command cancelled.",
     "output_type": "error",
     "traceback": [
      "Command cancelled."
     ]
    }
   ],
   "source": [
    "for (;;);"
   ]
  },
  {
   "cell_type": "code",
   "execution_count": null,
   "metadata": {
    "dotnet_interactive": {
     "language": "csharp"
    },
    "polyglot_notebook": {
     "kernelName": "csharp"
    }
   },
   "outputs": [],
   "source": [
    "int maximum = 500;\n",
    "for (byte i = 0; i < maximum; i++) {            // The Overflow causes the program  to stuck in an infinite loop.\n",
    "    Console.WriteLine(i);\n",
    "}\n"
   ]
  },
  {
   "cell_type": "code",
   "execution_count": 3,
   "metadata": {
    "dotnet_interactive": {
     "language": "csharp"
    },
    "polyglot_notebook": {
     "kernelName": "csharp"
    }
   },
   "outputs": [
    {
     "name": "stdout",
     "output_type": "stream",
     "text": [
      "1 2 Fizz 4 Buzz Fizz 7 8 Fizz Buzz 11 Fizz 13 14 FizzBuzz 16 17 Fizz 19 Buzz Fizz 22 23 Fizz Buzz 26 Fizz 28 29 FizzBuzz 31 32 Fizz 34 Buzz Fizz 37 38 Fizz Buzz 41 Fizz 43 44 FizzBuzz 46 47 Fizz 49 Buzz Fizz 52 53 Fizz Buzz 56 Fizz 58 59 FizzBuzz 61 62 Fizz 64 Buzz Fizz 67 68 Fizz Buzz 71 Fizz 73 74 FizzBuzz 76 77 Fizz 79 Buzz Fizz 82 83 Fizz Buzz 86 Fizz 88 89 FizzBuzz 91 92 Fizz 94 Buzz Fizz 97 98 Fizz Buzz "
     ]
    }
   ],
   "source": [
    "string fizz, buzz = string.Empty;\n",
    "for (int i = 1; i <= 100; i++) {\n",
    "    fizz = i % 3 == 0 ? \"Fizz\" : string.Empty;\n",
    "    buzz = i % 5 == 0 ? \"Buzz\" : string.Empty;\n",
    "    string fizzbuzz = fizz + buzz;\n",
    "    if (fizzbuzz.Length > 0) {\n",
    "        Console.Write(fizzbuzz + \" \");\n",
    "    }\n",
    "    else {\n",
    "        Console.Write(i + \" \");\n",
    "    }\n",
    "\n",
    "\n",
    "}"
   ]
  }
 ],
 "metadata": {
  "kernelspec": {
   "display_name": ".NET (C#)",
   "language": "C#",
   "name": ".net-csharp"
  },
  "language_info": {
   "name": "polyglot-notebook"
  },
  "polyglot_notebook": {
   "kernelInfo": {
    "defaultKernelName": "csharp",
    "items": [
     {
      "aliases": [],
      "languageName": "csharp",
      "name": "csharp"
     }
    ]
   }
  }
 },
 "nbformat": 4,
 "nbformat_minor": 2
}
