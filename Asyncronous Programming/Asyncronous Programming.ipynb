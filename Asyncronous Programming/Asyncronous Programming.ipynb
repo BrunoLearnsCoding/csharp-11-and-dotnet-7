{
 "cells": [
  {
   "cell_type": "markdown",
   "metadata": {},
   "source": [
    "# Asynchronus Programming\n",
    "\n",
    "<p>Resources:</p>\n",
    "\n",
    "[Asynchronus Programming best practices from Microsoft](https://learn.microsoft.com/en-us/archive/msdn-magazine/2013/march/async-await-best-practices-in-asynchronous-programming)\n",
    "\n",
    "[10 Best Practices in Async-Await Code in C# in [2022]](https://dateo-software.de/blog/best-practices-async-await)"
   ]
  }
 ],
 "metadata": {
  "kernelspec": {
   "display_name": ".NET (C#)",
   "language": "C#",
   "name": ".net-csharp"
  },
  "language_info": {
   "name": "polyglot-notebook"
  },
  "polyglot_notebook": {
   "kernelInfo": {
    "defaultKernelName": "csharp",
    "items": [
     {
      "aliases": [],
      "languageName": "csharp",
      "name": "csharp"
     }
    ]
   }
  }
 },
 "nbformat": 4,
 "nbformat_minor": 2
}
