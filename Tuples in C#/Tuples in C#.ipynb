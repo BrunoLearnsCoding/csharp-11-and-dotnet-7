{
 "cells": [
  {
   "cell_type": "markdown",
   "metadata": {},
   "source": [
    "# How to declare and initialise a value tuple\n",
    "\n",
    "[Microsoft reference](https://learn.microsoft.com/en-us/dotnet/csharp/language-reference/builtin-types/value-tuples)"
   ]
  },
  {
   "cell_type": "code",
   "execution_count": 20,
   "metadata": {
    "dotnet_interactive": {
     "language": "csharp"
    },
    "polyglot_notebook": {
     "kernelName": "csharp"
    }
   },
   "outputs": [
    {
     "name": "stdout",
     "output_type": "stream",
     "text": [
      "4\n",
      "Bob\n",
      "Sum of 3 elements is 4.5.\n",
      "9\n",
      "Liliy\n",
      "Sum of 3 elements is 4.5.\n"
     ]
    }
   ],
   "source": [
    "var s = (4, \"Bob\");                                     // Implicitly typed tuple using initialization expression. filed names are not defined.\n",
    "Console.WriteLine(s.Item1);                             // Tuple fields are named Item1, Item2, ....\n",
    "Console.WriteLine(s.Item2);\n",
    "\n",
    "var t = (Sum: 4.5, Count: 3);                           // Implicitly typed tuple with field names defiened in initialization expression.\n",
    "Console.WriteLine($\"Sum of {t.Count} elements is {t.Sum}.\");\n",
    "\n",
    "\n",
    "public class Person {\n",
    "    public int Count;\n",
    "    public string Name;\n",
    "}\n",
    "Person person = new() { Count = 9, Name = \"Liliy\" };\n",
    "var m = (person.Count, person.Name);                    // Implicitly typed tuple with field names inferring from the object fields in initialization expression.\n",
    "Console.WriteLine(m.Count);                             // 'Tuple name inference' is there since C# 7.1'\n",
    "Console.WriteLine((m.Name));\n",
    "\n",
    "var sum = 4.5;\n",
    "var count = 3;\n",
    "var j = (sum, count);                                   // Implicitly typed tuple with field names inferred from the name of variables in initialization expression. \n",
    "Console.WriteLine($\"Sum of {j.count} elements is {j.sum}.\");\n",
    "\n"
   ]
  },
  {
   "cell_type": "code",
   "execution_count": 17,
   "metadata": {
    "dotnet_interactive": {
     "language": "csharp"
    },
    "polyglot_notebook": {
     "kernelName": "csharp"
    }
   },
   "outputs": [
    {
     "name": "stdout",
     "output_type": "stream",
     "text": [
      "14\n",
      "Robert\n",
      "5\n",
      "James\n"
     ]
    }
   ],
   "source": [
    "(int, string) b;                                        // Explicitly typed tuple with no field names defined.\n",
    "b.Item1 = 14;\n",
    "b.Item2 = \"Robert\";\n",
    "\n",
    "Console.WriteLine(b.Item1);\n",
    "Console.WriteLine(b.Item2);\n",
    "\n",
    "(int Count, string Name) p = (5, \"James\");              // Explicitly typed tuple with field names inferred from the name of the corresponding variable in a tuple initialization expression.\n",
    "Console.WriteLine(p.Count);                             // Tuple fields are named after declared variables \n",
    "Console.WriteLine(p.Name);"
   ]
  },
  {
   "cell_type": "markdown",
   "metadata": {},
   "source": [
    "# Tuple use cases\n",
    "One of the most common use cases of tuples is as a method return type. That is, instead of defining out method parameters, you can group method results in a tuple return type.\n",
    "\n"
   ]
  },
  {
   "cell_type": "markdown",
   "metadata": {},
   "source": [
    "# Tuple initialization & assignment"
   ]
  },
  {
   "cell_type": "code",
   "execution_count": 30,
   "metadata": {
    "dotnet_interactive": {
     "language": "csharp"
    },
    "polyglot_notebook": {
     "kernelName": "csharp"
    }
   },
   "outputs": [
    {
     "name": "stdout",
     "output_type": "stream",
     "text": [
      "14\n",
      "Bob\n",
      "14\n",
      "Bob\n",
      "14\n",
      "Bob\n",
      "14\n",
      "Bob\n",
      "14\n",
      "Bob\n"
     ]
    }
   ],
   "source": [
    "public class TupleGenerator {\n",
    "    public (int Number, string Name) GetTuple() {\n",
    "        return (14, \"Bob\");\n",
    "    }\n",
    "}\n",
    "\n",
    "var generator = new TupleGenerator();\n",
    "\n",
    "var t = generator.GetTuple();\n",
    "Console.WriteLine(t.Number);\n",
    "Console.WriteLine(t.Name);\n",
    "\n",
    "\n",
    "var (number, name) = generator.GetTuple();\n",
    "Console.WriteLine(number);\n",
    "Console.WriteLine(name);\n",
    "\n",
    "(var number2, var name2) = generator.GetTuple();\n",
    "Console.WriteLine(number2);\n",
    "Console.WriteLine(name2);\n",
    "\n",
    "\n",
    "(int number1, string name1) = generator.GetTuple();\n",
    "Console.WriteLine(number1);\n",
    "Console.WriteLine(name1);\n",
    "\n",
    "(int number, string name) tuple = generator.GetTuple();\n",
    "Console.WriteLine(tuple.number);\n",
    "Console.WriteLine(tuple.name);\n",
    "\n"
   ]
  },
  {
   "cell_type": "markdown",
   "metadata": {},
   "source": [
    "# Tuple deconstruction"
   ]
  }
 ],
 "metadata": {
  "kernelspec": {
   "display_name": ".NET (C#)",
   "language": "C#",
   "name": ".net-csharp"
  },
  "language_info": {
   "name": "polyglot-notebook"
  },
  "polyglot_notebook": {
   "kernelInfo": {
    "defaultKernelName": "csharp",
    "items": [
     {
      "aliases": [],
      "languageName": "csharp",
      "name": "csharp"
     }
    ]
   }
  }
 },
 "nbformat": 4,
 "nbformat_minor": 2
}
