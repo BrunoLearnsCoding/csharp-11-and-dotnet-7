{
 "cells": [
  {
   "cell_type": "markdown",
   "metadata": {},
   "source": [
    "# .Net tools"
   ]
  },
  {
   "cell_type": "markdown",
   "metadata": {},
   "source": [
    "## How to istall a tool like CSharprRepl\n",
    "\n",
    "\n",
    "CSharpRelp official page\n",
    "\n",
    "https://fuqua.io/CSharpRepl/\n",
    "\n",
    "---------------------------------------\n",
    "How to install csharprepl\n",
    "\n",
    "dotnet tool install -g csharprepl --add-source \"https://api.nuget.org/v3/index.json\"\n",
    "\n",
    "----------------------------------------\n",
    "Documentation\n",
    "\n",
    "https://github.com/waf/CSharpRepl"
   ]
  },
  {
   "cell_type": "markdown",
   "metadata": {},
   "source": [
    "# How to create a console project and add it to a solution\n",
    "\n",
    "In solution folder :\n",
    "\n",
    "dotnet new console -f net7.0 --output \"[Project Name]\" --use-program-main\n",
    "\n",
    "-f : specifies the tarhet framework\n",
    "\n",
    "--output : creates a folder for the project with the given name\n",
    "\n",
    "--use-program-main : Causes to create a classic Program class and Main method. If not, it creates a top-level program.\n",
    "\n",
    "This command adds the newly created project to the solution\n",
    "\n",
    "dotnet add sln \".\\\\[Project Name]\\\\[Project Name.csproj]\"\n"
   ]
  }
 ],
 "metadata": {
  "kernelspec": {
   "display_name": ".NET (C#)",
   "language": "C#",
   "name": ".net-csharp"
  },
  "language_info": {
   "name": "polyglot-notebook"
  },
  "polyglot_notebook": {
   "kernelInfo": {
    "defaultKernelName": "csharp",
    "items": [
     {
      "aliases": [],
      "languageName": "csharp",
      "name": "csharp"
     }
    ]
   }
  }
 },
 "nbformat": 4,
 "nbformat_minor": 2
}
